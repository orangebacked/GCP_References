{
 "cells": [
  {
   "cell_type": "code",
   "execution_count": 3,
   "metadata": {},
   "outputs": [],
   "source": [
    "from pyvis import network as net\n",
    "import networkx as nx \n",
    "from google.cloud import bigquery\n",
    "import pandas as pd\n",
    "from collections import namedtuple\n",
    "import numpy as np"
   ]
  },
  {
   "cell_type": "code",
   "execution_count": null,
   "metadata": {},
   "outputs": [],
   "source": []
  },
  {
   "cell_type": "markdown",
   "metadata": {},
   "source": [
    "# Example of a graph"
   ]
  },
  {
   "cell_type": "code",
   "execution_count": 7,
   "metadata": {},
   "outputs": [
    {
     "data": {
      "text/html": [
       "\n",
       "        <iframe\n",
       "            width=\"500px\"\n",
       "            height=\"500px\"\n",
       "            src=\"example.html\"\n",
       "            frameborder=\"0\"\n",
       "            allowfullscreen\n",
       "        ></iframe>\n",
       "        "
      ],
      "text/plain": [
       "<IPython.lib.display.IFrame at 0x7f67d3f41780>"
      ]
     },
     "execution_count": 7,
     "metadata": {},
     "output_type": "execute_result"
    }
   ],
   "source": [
    "g = net.Network(notebook=True)\n",
    "nxg = nx.complete_graph(5)\n",
    "g.from_nx(nxg)\n",
    "g.show(\"example.html\")"
   ]
  },
  {
   "cell_type": "markdown",
   "metadata": {},
   "source": [
    "# Query to de BQ"
   ]
  },
  {
   "cell_type": "code",
   "execution_count": 4,
   "metadata": {},
   "outputs": [],
   "source": [
    "client = bigquery.Client()"
   ]
  },
  {
   "cell_type": "code",
   "execution_count": 9,
   "metadata": {},
   "outputs": [
    {
     "data": {
      "text/html": [
       "<div>\n",
       "<style scoped>\n",
       "    .dataframe tbody tr th:only-of-type {\n",
       "        vertical-align: middle;\n",
       "    }\n",
       "\n",
       "    .dataframe tbody tr th {\n",
       "        vertical-align: top;\n",
       "    }\n",
       "\n",
       "    .dataframe thead th {\n",
       "        text-align: right;\n",
       "    }\n",
       "</style>\n",
       "<table border=\"1\" class=\"dataframe\">\n",
       "  <thead>\n",
       "    <tr style=\"text-align: right;\">\n",
       "      <th></th>\n",
       "      <th>item_id</th>\n",
       "      <th>title</th>\n",
       "      <th>fecha</th>\n",
       "      <th>text_content</th>\n",
       "      <th>source</th>\n",
       "    </tr>\n",
       "  </thead>\n",
       "  <tbody>\n",
       "    <tr>\n",
       "      <th>0</th>\n",
       "      <td>873321</td>\n",
       "      <td>Iván Duque calificó de burrada la declaración ...</td>\n",
       "      <td>2019-07-29</td>\n",
       "      <td>\":\"Es una burrada: Duque sobre declaración de ...</td>\n",
       "      <td>El Espectador</td>\n",
       "    </tr>\n",
       "    <tr>\n",
       "      <th>1</th>\n",
       "      <td>873299</td>\n",
       "      <td>\"Iván Márquez y Jesús Santrich son bienvenidos...</td>\n",
       "      <td>2019-07-28</td>\n",
       "      <td>\":\"Iván Márquez y Jesús Santrich son bienvenid...</td>\n",
       "      <td>El Espectador</td>\n",
       "    </tr>\n",
       "    <tr>\n",
       "      <th>2</th>\n",
       "      <td>867099</td>\n",
       "      <td>\"Duque debe limitar su relaciÃ³n con Uribe\": T...</td>\n",
       "      <td>2019-06-21</td>\n",
       "      <td>\":\"u0022Duque debe limitar su relación con Uri...</td>\n",
       "      <td>El Espectador</td>\n",
       "    </tr>\n",
       "    <tr>\n",
       "      <th>3</th>\n",
       "      <td>868066</td>\n",
       "      <td>Indagatoria contra JesÃºs Santrich por narcotr...</td>\n",
       "      <td>2019-06-27</td>\n",
       "      <td>\":\"Indagatoria contra Jesús Santrich por narco...</td>\n",
       "      <td>El Espectador</td>\n",
       "    </tr>\n",
       "    <tr>\n",
       "      <th>4</th>\n",
       "      <td>868471</td>\n",
       "      <td>Otra versiÃ³n de la renuncia del exfiscal gene...</td>\n",
       "      <td>2019-06-29</td>\n",
       "      <td>\":\"Otra versión de la renuncia del exfiscal ge...</td>\n",
       "      <td>El Espectador</td>\n",
       "    </tr>\n",
       "  </tbody>\n",
       "</table>\n",
       "</div>"
      ],
      "text/plain": [
       "   item_id                                              title       fecha  \\\n",
       "0   873321  Iván Duque calificó de burrada la declaración ...  2019-07-29   \n",
       "1   873299  \"Iván Márquez y Jesús Santrich son bienvenidos...  2019-07-28   \n",
       "2   867099  \"Duque debe limitar su relaciÃ³n con Uribe\": T...  2019-06-21   \n",
       "3   868066  Indagatoria contra JesÃºs Santrich por narcotr...  2019-06-27   \n",
       "4   868471  Otra versiÃ³n de la renuncia del exfiscal gene...  2019-06-29   \n",
       "\n",
       "                                        text_content         source  \n",
       "0  \":\"Es una burrada: Duque sobre declaración de ...  El Espectador  \n",
       "1  \":\"Iván Márquez y Jesús Santrich son bienvenid...  El Espectador  \n",
       "2  \":\"u0022Duque debe limitar su relación con Uri...  El Espectador  \n",
       "3  \":\"Indagatoria contra Jesús Santrich por narco...  El Espectador  \n",
       "4  \":\"Otra versión de la renuncia del exfiscal ge...  El Espectador  "
      ]
     },
     "execution_count": 9,
     "metadata": {},
     "output_type": "execute_result"
    }
   ],
   "source": [
    "\n",
    "sql=\"\"\" \n",
    "(\n",
    "SELECT\n",
    "    distinct item_id,\n",
    "    title,\n",
    "    date as fecha,\n",
    "    text_content,\n",
    "    'Semana' AS source\n",
    "  FROM\n",
    "    `servisentimen-servipolitics.news_scrapping.semana`\n",
    "  WHERE\n",
    "    REGEXP_CONTAINS(LOWER(text_content),\n",
    "      r'santrich') )\n",
    "  UNION ALL (\n",
    "  SELECT\n",
    "    distinct item_id, \n",
    "    title,\n",
    "    cast(date as DATE) as fecha,\n",
    "    text_content,\n",
    "    'El Tiempo' AS source\n",
    "  FROM\n",
    "    `servisentimen-servipolitics.news_scrapping.el_tiempo`\n",
    "  WHERE\n",
    "    REGEXP_CONTAINS(LOWER(text_content),\n",
    "      r'santrich') )\n",
    "  UNION ALL (\n",
    "  SELECT\n",
    "    distinct item_id, \n",
    "    title,\n",
    "    date as fecha,\n",
    "    text_content,\n",
    "    'El Espectador' AS source\n",
    "  FROM\n",
    "    `servisentimen-servipolitics.news_scrapping.el_espectador`\n",
    "  WHERE\n",
    "    REGEXP_CONTAINS(LOWER(text_content),\n",
    "      r'santrich') \n",
    ")\n",
    "\"\"\"\n",
    "df = client.query(sql).to_dataframe()\n",
    "df.head()"
   ]
  },
  {
   "cell_type": "markdown",
   "metadata": {},
   "source": [
    "# NLP"
   ]
  },
  {
   "cell_type": "markdown",
   "metadata": {},
   "source": [
    "## 1. Defining thr functions used for NER"
   ]
  },
  {
   "cell_type": "markdown",
   "metadata": {},
   "source": [
    "### 1.1 Calling the API"
   ]
  },
  {
   "cell_type": "code",
   "execution_count": 10,
   "metadata": {},
   "outputs": [],
   "source": [
    "import six\n",
    "from google.cloud import language\n",
    "from google.cloud.language import enums\n",
    "from google.cloud.language import types\n",
    "import sys\n",
    "text = df[\"text_content\"][0]\n",
    "\n",
    "def getsentimental(text):\n",
    "    client = language.LanguageServiceClient()\n",
    "\n",
    "    if isinstance(text, six.binary_type):\n",
    "        text = text.decode('utf-8')\n",
    "\n",
    "    document = types.Document(\n",
    "        content=text.encode('utf-8'),\n",
    "        type=enums.Document.Type.PLAIN_TEXT)\n",
    "\n",
    "    # Detect and send native Python encoding to receive correct word offsets.\n",
    "    encoding = enums.EncodingType.UTF32\n",
    "    if sys.maxunicode == 65535:\n",
    "        encoding = enums.EncodingType.UTF16\n",
    "\n",
    "    result = client.analyze_entity_sentiment(document, encoding)\n",
    "\n",
    "    return result.entities\n"
   ]
  },
  {
   "cell_type": "code",
   "execution_count": 11,
   "metadata": {},
   "outputs": [],
   "source": [
    "s = getsentimental(text)"
   ]
  },
  {
   "cell_type": "markdown",
   "metadata": {},
   "source": [
    "### 1.2 Creating the json"
   ]
  },
  {
   "cell_type": "code",
   "execution_count": 12,
   "metadata": {},
   "outputs": [],
   "source": [
    "def jsonit(result):\n",
    "    listdict = []\n",
    "    for entity in result:\n",
    "        dictd = {}\n",
    "        dictd[\"name\"] = entity.name\n",
    "        dictd[\"type\"] = entity.type\n",
    "        dictd[\"Salience\"] = entity.salience\n",
    "        mentionss = []\n",
    "        for mention in entity.mentions:\n",
    "            dict_m = {}\n",
    "            dict_m[\"Content\"] = mention.text.content\n",
    "            dict_m[\"Magnitude\"] = mention.sentiment.magnitude\n",
    "            dict_m[\"Sentiment\"] = mention.sentiment.score\n",
    "            dict_m[\"Salience\"] = entity.salience\n",
    "            mentionss.append(dict_m)\n",
    "        dictd[\"mentions\"] = mentionss\n",
    "        listdict.append(dictd)\n",
    "    return listdict"
   ]
  },
  {
   "cell_type": "markdown",
   "metadata": {},
   "source": [
    "#### Clean de dataframe"
   ]
  },
  {
   "cell_type": "code",
   "execution_count": 46,
   "metadata": {},
   "outputs": [],
   "source": [
    "dc = df.drop_duplicates(subset=\"item_id\")"
   ]
  },
  {
   "cell_type": "markdown",
   "metadata": {},
   "source": [
    "### Apply the NLP and make it a JSON (why did google create these weird classes is beyond my comprehension)"
   ]
  },
  {
   "cell_type": "code",
   "execution_count": 76,
   "metadata": {},
   "outputs": [],
   "source": [
    "listarticles = [] \n",
    "articlent = namedtuple('articlent', 'item_id title source fecha listNER')\n",
    "for article in  dc.itertuples():\n",
    "    text = article.text_content\n",
    "    result = getsentimental(text)\n",
    "    listNER = jsonit(result)\n",
    "    anarticle = articlent(article.item_id, article.title, article.source, article.fecha, listNER)\n",
    "    listarticles.append(anarticle)"
   ]
  },
  {
   "cell_type": "markdown",
   "metadata": {},
   "source": [
    "### list to create the dataframe"
   ]
  },
  {
   "cell_type": "code",
   "execution_count": 133,
   "metadata": {},
   "outputs": [],
   "source": [
    "pre_df  = []\n",
    "for ent in listarticles:\n",
    "    mentions = ent.listNER \n",
    "    name = ent.title\n",
    "    item_id = ent.item_id\n",
    "    source = ent.source\n",
    "    fecha = ent.fecha\n",
    "    for mention in mentions:\n",
    "        Salienceg = mention[\"Salience\"]\n",
    "        types = mention[\"type\"]\n",
    "        name = mention[\"name\"]\n",
    "        men = mention['mentions']\n",
    "        for mentis in men:\n",
    "            Magnitude = mentis['Magnitude']\n",
    "            Saliencei = mentis['Salience']\n",
    "            Sentiment = mentis['Sentiment']\n",
    "            tup = (name, item_id, source, fecha, Salienceg, types, name, Magnitude, Saliencei, Sentiment)\n",
    "            pre_df.append(tup)\n",
    "col = [\"nameg\", \n",
    "       \"item_id\", \n",
    "       \"source\", \n",
    "        \"fecha\", \n",
    "        \"Salienceg\", \n",
    "        \"types\", \n",
    "        \"namei\", \n",
    "        \"Magnitude\", \n",
    "        \"Saliencei\", \n",
    "        \"Sentiment\"\n",
    "          ]\n",
    "dfObj = pd.DataFrame(pre_df , columns=col)"
   ]
  },
  {
   "cell_type": "markdown",
   "metadata": {},
   "source": [
    "### Delete sentiment = 0 "
   ]
  },
  {
   "cell_type": "code",
   "execution_count": 165,
   "metadata": {},
   "outputs": [],
   "source": [
    "df = dfObj[dfObj[\"Sentiment\"] != 0.0]"
   ]
  },
  {
   "cell_type": "markdown",
   "metadata": {},
   "source": [
    "### Upload to BQ"
   ]
  },
  {
   "cell_type": "code",
   "execution_count": 166,
   "metadata": {},
   "outputs": [
    {
     "name": "stderr",
     "output_type": "stream",
     "text": [
      "1it [00:00,  6.11it/s]\n"
     ]
    }
   ],
   "source": [
    "full_table_id = 'NER.santrich'\n",
    "project_id = 'servisentimen-servipolitics'\n",
    "df.to_gbq(full_table_id, project_id=project_id)"
   ]
  },
  {
   "cell_type": "code",
   "execution_count": 9,
   "metadata": {},
   "outputs": [
    {
     "data": {
      "text/html": [
       "<div>\n",
       "<style scoped>\n",
       "    .dataframe tbody tr th:only-of-type {\n",
       "        vertical-align: middle;\n",
       "    }\n",
       "\n",
       "    .dataframe tbody tr th {\n",
       "        vertical-align: top;\n",
       "    }\n",
       "\n",
       "    .dataframe thead th {\n",
       "        text-align: right;\n",
       "    }\n",
       "</style>\n",
       "<table border=\"1\" class=\"dataframe\">\n",
       "  <thead>\n",
       "    <tr style=\"text-align: right;\">\n",
       "      <th></th>\n",
       "      <th>Sentiment</th>\n",
       "      <th>Magnitude</th>\n",
       "      <th>namei</th>\n",
       "    </tr>\n",
       "  </thead>\n",
       "  <tbody>\n",
       "    <tr>\n",
       "      <th>0</th>\n",
       "      <td>-1.490116e-09</td>\n",
       "      <td>0.200000</td>\n",
       "      <td>jefe</td>\n",
       "    </tr>\n",
       "    <tr>\n",
       "      <th>1</th>\n",
       "      <td>-9.818182e-02</td>\n",
       "      <td>0.192727</td>\n",
       "      <td>presidente</td>\n",
       "    </tr>\n",
       "    <tr>\n",
       "      <th>2</th>\n",
       "      <td>2.000000e-01</td>\n",
       "      <td>0.325000</td>\n",
       "      <td>presidenta</td>\n",
       "    </tr>\n",
       "    <tr>\n",
       "      <th>3</th>\n",
       "      <td>2.333333e-01</td>\n",
       "      <td>0.300000</td>\n",
       "      <td>Max Flórez</td>\n",
       "    </tr>\n",
       "    <tr>\n",
       "      <th>4</th>\n",
       "      <td>4.000000e-01</td>\n",
       "      <td>0.400000</td>\n",
       "      <td>Felipe Córdoba</td>\n",
       "    </tr>\n",
       "  </tbody>\n",
       "</table>\n",
       "</div>"
      ],
      "text/plain": [
       "      Sentiment  Magnitude           namei\n",
       "0 -1.490116e-09   0.200000            jefe\n",
       "1 -9.818182e-02   0.192727      presidente\n",
       "2  2.000000e-01   0.325000      presidenta\n",
       "3  2.333333e-01   0.300000      Max Flórez\n",
       "4  4.000000e-01   0.400000  Felipe Córdoba"
      ]
     },
     "execution_count": 9,
     "metadata": {},
     "output_type": "execute_result"
    }
   ],
   "source": [
    "client = bigquery.Client()\n",
    "\n",
    "sql=\"\"\" \n",
    "SELECT AVG(Sentiment) as Sentiment, AVG(Magnitude) as Magnitude, namei\n",
    "FROM( \n",
    "SELECT *\n",
    "FROM `servisentimen-servipolitics.NER.santrich`\n",
    "where types = 1\n",
    ")\n",
    "GROUP BY namei \n",
    "\"\"\"\n",
    "\n",
    "dfs = client.query(sql).to_dataframe()\n",
    "dfs.head()"
   ]
  },
  {
   "cell_type": "markdown",
   "metadata": {},
   "source": [
    "### Testing if I can modify the size of the graph"
   ]
  },
  {
   "cell_type": "code",
   "execution_count": 36,
   "metadata": {},
   "outputs": [],
   "source": [
    "dfs[\"sentiment\"] = dfs[\"Sentiment\"] + 1\n",
    "dfs[\"sentiment\"] = np.absolute(np.log(dfs[\"sentiment\"])*100)"
   ]
  },
  {
   "cell_type": "code",
   "execution_count": 37,
   "metadata": {},
   "outputs": [
    {
     "data": {
      "text/html": [
       "\n",
       "        <iframe\n",
       "            width=\"500px\"\n",
       "            height=\"500px\"\n",
       "            src=\"example.html\"\n",
       "            frameborder=\"0\"\n",
       "            allowfullscreen\n",
       "        ></iframe>\n",
       "        "
      ],
      "text/plain": [
       "<IPython.lib.display.IFrame at 0x7ffb321a56a0>"
      ]
     },
     "execution_count": 37,
     "metadata": {},
     "output_type": "execute_result"
    }
   ],
   "source": [
    "dfs\n",
    "\n",
    "df = dfs[:50]\n",
    "\n",
    "G = nx.Graph()\n",
    "for index,row in df.iterrows():\n",
    "    G.add_node(row[\"namei\"], value=row[\"sentiment\"])\n",
    "edg = [(x,\"Santrich\") for x in list(df['namei'])]\n",
    "G.add_edges_from(edg)\n",
    "g = net.Network(notebook=True)\n",
    "nxg = nx.complete_graph(5)\n",
    "g.from_nx(G)\n",
    "g.show(\"example.html\")"
   ]
  }
 ],
 "metadata": {
  "kernelspec": {
   "display_name": "Python 3",
   "language": "python",
   "name": "python3"
  },
  "language_info": {
   "codemirror_mode": {
    "name": "ipython",
    "version": 3
   },
   "file_extension": ".py",
   "mimetype": "text/x-python",
   "name": "python",
   "nbconvert_exporter": "python",
   "pygments_lexer": "ipython3",
   "version": "3.5.3"
  }
 },
 "nbformat": 4,
 "nbformat_minor": 2
}
