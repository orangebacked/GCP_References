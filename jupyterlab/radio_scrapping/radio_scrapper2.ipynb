{
 "cells": [
  {
   "cell_type": "markdown",
   "metadata": {},
   "source": [
    "# Libraries"
   ]
  },
  {
   "cell_type": "code",
   "execution_count": 1,
   "metadata": {},
   "outputs": [],
   "source": [
    "import os\n",
    "from google.cloud import speech\n",
    "from google.cloud.speech import enums\n",
    "from google.cloud.speech import types\n"
   ]
  },
  {
   "cell_type": "code",
   "execution_count": 2,
   "metadata": {},
   "outputs": [],
   "source": [
    "import pandas as pd\n",
    "from collections import namedtuple\n",
    "import requests as req\n",
    "import io\n",
    "import eventlet\n",
    "import datetime\n",
    "import requests"
   ]
  },
  {
   "cell_type": "markdown",
   "metadata": {},
   "source": [
    "# Scrapper"
   ]
  },
  {
   "cell_type": "code",
   "execution_count": null,
   "metadata": {},
   "outputs": [],
   "source": [
    "bashCommand = \"curl https://18853.live.streamtheworld.com/BLURADIO_SC --output ./audio_scrapping/somess.mp3 --max-time 400\"\n",
    "os.system(bashCommand)"
   ]
  },
  {
   "cell_type": "markdown",
   "metadata": {},
   "source": [
    "## Get the audio file"
   ]
  },
  {
   "cell_type": "code",
   "execution_count": null,
   "metadata": {},
   "outputs": [
    {
     "name": "stderr",
     "output_type": "stream",
     "text": [
      "ERROR:root:Invalid alias: The name clear can't be aliased because it is another magic command.\n",
      "ERROR:root:Invalid alias: The name more can't be aliased because it is another magic command.\n",
      "ERROR:root:Invalid alias: The name less can't be aliased because it is another magic command.\n",
      "ERROR:root:Invalid alias: The name man can't be aliased because it is another magic command.\n"
     ]
    }
   ],
   "source": [
    "import google.cloud.storage as storage\n",
    "\n",
    "bashCommand = \"curl https://18853.live.streamtheworld.com/BLURADIO_SC --output ./blue.mp3 --max-time 400\"\n",
    "os.system(bashCommand)\n",
    "bashCommand = \"ffmpeg -i ./blue.mp3.mp3 -c:v libx264 ./audio_scrapping/long.flac\"\n",
    "os.system(bashCommand)\n",
    "bashCommand = \"ffmpeg -i ./audio_scrapping/long.flac -ac 1 ./audio_scrapping/mono_long.flac\"\n",
    "os.system(bashCommand)\n",
    "\n",
    "def upload_blob(bucket_name, source_file_name, destination_blob_name):\n",
    "    \"\"\"Uploads a file to the bucket.\"\"\"\n",
    "    storage_client = storage.Client()\n",
    "    bucket = storage_client.get_bucket(bucket_name)\n",
    "    blob = bucket.blob(destination_blob_name)\n",
    "    blob.upload_from_filename(source_file_name)\n",
    "\n",
    "    print('File {} uploaded to {}.'.format(\n",
    "        source_file_name,\n",
    "        destination_blob_name))\n",
    "    \n",
    "upload_blob(\"radioscrapping\", \"./audio_scrapping/mono_long.flac\", \"jupyter_tries/mono_long.flac\")"
   ]
  },
  {
   "cell_type": "code",
   "execution_count": 3,
   "metadata": {},
   "outputs": [],
   "source": [
    "from pydub import AudioSegment\n",
    "song = AudioSegment.from_mp3(\"somess.mp3\")"
   ]
  },
  {
   "cell_type": "code",
   "execution_count": 6,
   "metadata": {},
   "outputs": [],
   "source": [
    "ss = song.export(format=\"flac\", parameters=[\"-ac\", \"1\"])"
   ]
  },
  {
   "cell_type": "markdown",
   "metadata": {},
   "source": [
    "## Two commands to convert it "
   ]
  },
  {
   "cell_type": "code",
   "execution_count": 4,
   "metadata": {},
   "outputs": [
    {
     "data": {
      "text/plain": [
       "0"
      ]
     },
     "execution_count": 4,
     "metadata": {},
     "output_type": "execute_result"
    }
   ],
   "source": [
    "bashCommand = \"ffmpeg -i ./audio_scrapping/somess.mp3 -c:v libx264 ./audio_scrapping/long.flac\"\n",
    "os.system(bashCommand)"
   ]
  },
  {
   "cell_type": "code",
   "execution_count": 6,
   "metadata": {},
   "outputs": [
    {
     "data": {
      "text/plain": [
       "0"
      ]
     },
     "execution_count": 6,
     "metadata": {},
     "output_type": "execute_result"
    }
   ],
   "source": [
    "bashCommand = \"ffmpeg -i ./audio_scrapping/long.flac -ac 1 ./audio_scrapping/mono_long.flac\"\n",
    "os.system(bashCommand)"
   ]
  },
  {
   "cell_type": "code",
   "execution_count": 12,
   "metadata": {},
   "outputs": [
    {
     "data": {
      "text/plain": [
       "256"
      ]
     },
     "execution_count": 12,
     "metadata": {},
     "output_type": "execute_result"
    }
   ],
   "source": [
    "bashCommand = \"cp ./audio_scrapping/mono_long.flac gs://radioscrapping/mono_long.flac\"\n",
    "os.system(bashCommand)"
   ]
  },
  {
   "cell_type": "markdown",
   "metadata": {},
   "source": [
    "## Upload to bucket \n",
    "\n",
    "### It has to read from a storage as the example is set like that"
   ]
  },
  {
   "cell_type": "code",
   "execution_count": 13,
   "metadata": {},
   "outputs": [],
   "source": [
    "import google.cloud.storage as storage"
   ]
  },
  {
   "cell_type": "code",
   "execution_count": 14,
   "metadata": {},
   "outputs": [],
   "source": [
    "def upload_blob(bucket_name, source_file_name, destination_blob_name):\n",
    "    \"\"\"Uploads a file to the bucket.\"\"\"\n",
    "    storage_client = storage.Client()\n",
    "    bucket = storage_client.get_bucket(bucket_name)\n",
    "    blob = bucket.blob(destination_blob_name)\n",
    "\n",
    "    blob.upload_from_filename(source_file_name)\n",
    "\n",
    "    print('File {} uploaded to {}.'.format(\n",
    "        source_file_name,\n",
    "        destination_blob_name))"
   ]
  },
  {
   "cell_type": "code",
   "execution_count": 15,
   "metadata": {},
   "outputs": [
    {
     "name": "stdout",
     "output_type": "stream",
     "text": [
      "File ./audio_scrapping/mono_long.flac uploaded to jupyter_tries/mono_long.flac.\n"
     ]
    }
   ],
   "source": [
    "upload_blob(\"radioscrapping\", \"./audio_scrapping/mono_long.flac\", \"jupyter_tries/mono_long.flac\")"
   ]
  },
  {
   "cell_type": "markdown",
   "metadata": {},
   "source": [
    "# Run the NLP speech to text"
   ]
  },
  {
   "cell_type": "code",
   "execution_count": 9,
   "metadata": {},
   "outputs": [],
   "source": [
    "def transcribe_gcs(gcs_uri):\n",
    "    \"\"\"Asynchronously transcribes the audio file specified by the gcs_uri.\"\"\"\n",
    "    client = speech.SpeechClient()\n",
    "\n",
    "    audio = types.RecognitionAudio(uri=gcs_uri)\n",
    "    config = types.RecognitionConfig(\n",
    "        encoding=enums.RecognitionConfig.AudioEncoding.FLAC,\n",
    "        language_code='es-CO')\n",
    "\n",
    "    operation = client.long_running_recognize(config, audio)\n",
    "\n",
    "    print('Waiting for operation to complete...')\n",
    "    response = operation.result(timeout=90)\n",
    "\n",
    "    # Each result is for a consecutive portion of the audio. Iterate through\n",
    "    # them to get the transcripts for the entire audio file.\n",
    "    return response"
   ]
  },
  {
   "cell_type": "markdown",
   "metadata": {},
   "source": [
    "# Results NLP "
   ]
  },
  {
   "cell_type": "code",
   "execution_count": 16,
   "metadata": {},
   "outputs": [
    {
     "name": "stdout",
     "output_type": "stream",
     "text": [
      "Waiting for operation to complete...\n"
     ]
    }
   ],
   "source": [
    "ss = transcribe_gcs(\"gs://radioscrapping/jupyter_tries/mono_long.flac\")"
   ]
  },
  {
   "cell_type": "code",
   "execution_count": 20,
   "metadata": {},
   "outputs": [],
   "source": [
    "text1 = ss.results[0].alternatives[0].transcript"
   ]
  },
  {
   "cell_type": "code",
   "execution_count": 22,
   "metadata": {},
   "outputs": [],
   "source": [
    "text2 = ss.results[1].alternatives[0].transcript"
   ]
  },
  {
   "cell_type": "code",
   "execution_count": 24,
   "metadata": {},
   "outputs": [],
   "source": [
    "text3 =  ss.results[2].alternatives[0].transcript\n"
   ]
  },
  {
   "cell_type": "code",
   "execution_count": 25,
   "metadata": {},
   "outputs": [
    {
     "data": {
      "text/plain": [
       "'en la transición las mujeres trans tienen todos los atributos atléticos de los hombres y ellos no permiten la participación de hombres en deportes femeninos porque en los niveles más altos las mujeres Sencillamente no pueden competir con los hombres entonces la transición hormonal a la que se someten las atletas tan les producen muchos cambios en sus cuerpos y condiciones atléticas por eso es muy importante que estos atletas hagan esos cambios antes de competir importante recordar que estamos conversando con Dios Ana Harper Ella es la coautora de las directrices y todo el reglamento para deportistas trans dentro del comité olímpico internacional tomando en cuenta la premisa de quién es usted señora Harvard para usted una mujer trans aún con el cambio sigue teniendo ventaja sobre la mujer en disciplinas por ejemplo como cuáles'"
      ]
     },
     "execution_count": 25,
     "metadata": {},
     "output_type": "execute_result"
    }
   ],
   "source": [
    "tex4 = ss.results[3].alternatives[0].transcript\n"
   ]
  },
  {
   "cell_type": "markdown",
   "metadata": {},
   "source": [
    "# NER"
   ]
  },
  {
   "cell_type": "code",
   "execution_count": 19,
   "metadata": {},
   "outputs": [],
   "source": [
    "import six\n",
    "from google.cloud import language\n",
    "from google.cloud.language import enums\n",
    "from google.cloud.language import types\n",
    "import sys\n",
    "\n",
    "def getsentimental(text):\n",
    "    client = language.LanguageServiceClient()\n",
    "\n",
    "    if isinstance(text, six.binary_type):\n",
    "        text = text.decode('utf-8')\n",
    "\n",
    "    document = types.Document(\n",
    "        content=text.encode('utf-8'),\n",
    "        type=enums.Document.Type.PLAIN_TEXT)\n",
    "\n",
    "    # Detect and send native Python encoding to receive correct word offsets.\n",
    "    encoding = enums.EncodingType.UTF32\n",
    "    if sys.maxunicode == 65535:\n",
    "        encoding = enums.EncodingType.UTF16\n",
    "\n",
    "    result = client.analyze_entity_sentiment(document, encoding)\n",
    "\n",
    "    return result.entities"
   ]
  },
  {
   "cell_type": "markdown",
   "metadata": {},
   "source": [
    "### results"
   ]
  },
  {
   "cell_type": "code",
   "execution_count": 27,
   "metadata": {},
   "outputs": [],
   "source": [
    "s = getsentimental(text1)"
   ]
  },
  {
   "cell_type": "markdown",
   "metadata": {},
   "source": [
    "### The output is a class this is a function that makes it a json"
   ]
  },
  {
   "cell_type": "code",
   "execution_count": 34,
   "metadata": {},
   "outputs": [],
   "source": [
    "def jsonit(result):\n",
    "    listdict = []\n",
    "    for entity in result:\n",
    "        dictd = {}\n",
    "        dictd[\"name\"] = entity.name\n",
    "        dictd[\"type\"] = entity.type\n",
    "        dictd[\"Salience\"] = entity.salience\n",
    "        mentionss = []\n",
    "        for mention in entity.mentions:\n",
    "            dict_m = {}\n",
    "            dict_m[\"Content\"] = mention.text.content\n",
    "            dict_m[\"Magnitude\"] = mention.sentiment.magnitude\n",
    "            dict_m[\"Sentiment\"] = mention.sentiment.score\n",
    "            dict_m[\"Salience\"] = entity.salience\n",
    "            mentionss.append(dict_m)\n",
    "        dictd[\"mentions\"] = mentionss\n",
    "        listdict.append(dictd)\n",
    "    return listdict"
   ]
  },
  {
   "cell_type": "code",
   "execution_count": 56,
   "metadata": {},
   "outputs": [],
   "source": [
    "sss = jsonit(s)"
   ]
  },
  {
   "cell_type": "markdown",
   "metadata": {},
   "source": [
    "### loop to make it a dataframe"
   ]
  },
  {
   "cell_type": "code",
   "execution_count": 58,
   "metadata": {},
   "outputs": [],
   "source": [
    "pre_df  = []\n",
    "for mention in sss:\n",
    "    Salienceg = mention[\"Salience\"]\n",
    "    types = mention[\"type\"]\n",
    "    name = mention[\"name\"]\n",
    "    men = mention['mentions']\n",
    "    for mentis in men:\n",
    "        Magnitude = mentis['Magnitude']\n",
    "        Saliencei = mentis['Salience']\n",
    "        Sentiment = mentis['Sentiment']\n",
    "        tup = (Salienceg, types, name, Magnitude, Saliencei, Sentiment)\n",
    "        pre_df.append(tup)"
   ]
  },
  {
   "cell_type": "code",
   "execution_count": 61,
   "metadata": {},
   "outputs": [],
   "source": [
    "col = [ \"Salienceg\",\n",
    "        \"types\", \n",
    "        \"namei\", \n",
    "        \"Magnitude\", \n",
    "        \"Saliencei\", \n",
    "        \"Sentiment\"\n",
    "          ]\n",
    "dfObj = pd.DataFrame(pre_df , columns=col)"
   ]
  },
  {
   "cell_type": "code",
   "execution_count": 62,
   "metadata": {},
   "outputs": [
    {
     "data": {
      "text/html": [
       "<div>\n",
       "<style scoped>\n",
       "    .dataframe tbody tr th:only-of-type {\n",
       "        vertical-align: middle;\n",
       "    }\n",
       "\n",
       "    .dataframe tbody tr th {\n",
       "        vertical-align: top;\n",
       "    }\n",
       "\n",
       "    .dataframe thead th {\n",
       "        text-align: right;\n",
       "    }\n",
       "</style>\n",
       "<table border=\"1\" class=\"dataframe\">\n",
       "  <thead>\n",
       "    <tr style=\"text-align: right;\">\n",
       "      <th></th>\n",
       "      <th>Salienceg</th>\n",
       "      <th>types</th>\n",
       "      <th>namei</th>\n",
       "      <th>Magnitude</th>\n",
       "      <th>Saliencei</th>\n",
       "      <th>Sentiment</th>\n",
       "    </tr>\n",
       "  </thead>\n",
       "  <tbody>\n",
       "    <tr>\n",
       "      <th>0</th>\n",
       "      <td>0.116637</td>\n",
       "      <td>1</td>\n",
       "      <td>coautora</td>\n",
       "      <td>0.1</td>\n",
       "      <td>0.116637</td>\n",
       "      <td>-0.1</td>\n",
       "    </tr>\n",
       "    <tr>\n",
       "      <th>1</th>\n",
       "      <td>0.084725</td>\n",
       "      <td>7</td>\n",
       "      <td>ámbito</td>\n",
       "      <td>0.1</td>\n",
       "      <td>0.084725</td>\n",
       "      <td>-0.1</td>\n",
       "    </tr>\n",
       "    <tr>\n",
       "      <th>2</th>\n",
       "      <td>0.079941</td>\n",
       "      <td>7</td>\n",
       "      <td>directrices</td>\n",
       "      <td>0.0</td>\n",
       "      <td>0.079941</td>\n",
       "      <td>0.0</td>\n",
       "    </tr>\n",
       "    <tr>\n",
       "      <th>3</th>\n",
       "      <td>0.079941</td>\n",
       "      <td>1</td>\n",
       "      <td>deportistas</td>\n",
       "      <td>0.0</td>\n",
       "      <td>0.079941</td>\n",
       "      <td>0.0</td>\n",
       "    </tr>\n",
       "    <tr>\n",
       "      <th>4</th>\n",
       "      <td>0.079941</td>\n",
       "      <td>3</td>\n",
       "      <td>comité</td>\n",
       "      <td>0.0</td>\n",
       "      <td>0.079941</td>\n",
       "      <td>0.0</td>\n",
       "    </tr>\n",
       "    <tr>\n",
       "      <th>5</th>\n",
       "      <td>0.074039</td>\n",
       "      <td>7</td>\n",
       "      <td>radio</td>\n",
       "      <td>0.1</td>\n",
       "      <td>0.074039</td>\n",
       "      <td>0.1</td>\n",
       "    </tr>\n",
       "    <tr>\n",
       "      <th>6</th>\n",
       "      <td>0.074039</td>\n",
       "      <td>7</td>\n",
       "      <td>conversación</td>\n",
       "      <td>0.0</td>\n",
       "      <td>0.074039</td>\n",
       "      <td>0.0</td>\n",
       "    </tr>\n",
       "    <tr>\n",
       "      <th>7</th>\n",
       "      <td>0.066863</td>\n",
       "      <td>7</td>\n",
       "      <td>reglamentos</td>\n",
       "      <td>0.0</td>\n",
       "      <td>0.066863</td>\n",
       "      <td>0.0</td>\n",
       "    </tr>\n",
       "    <tr>\n",
       "      <th>8</th>\n",
       "      <td>0.043613</td>\n",
       "      <td>1</td>\n",
       "      <td>directriz</td>\n",
       "      <td>0.0</td>\n",
       "      <td>0.043613</td>\n",
       "      <td>0.0</td>\n",
       "    </tr>\n",
       "    <tr>\n",
       "      <th>9</th>\n",
       "      <td>0.038460</td>\n",
       "      <td>7</td>\n",
       "      <td>expecting</td>\n",
       "      <td>0.0</td>\n",
       "      <td>0.038460</td>\n",
       "      <td>0.0</td>\n",
       "    </tr>\n",
       "    <tr>\n",
       "      <th>10</th>\n",
       "      <td>0.038460</td>\n",
       "      <td>7</td>\n",
       "      <td>esfinges</td>\n",
       "      <td>0.0</td>\n",
       "      <td>0.038460</td>\n",
       "      <td>0.0</td>\n",
       "    </tr>\n",
       "    <tr>\n",
       "      <th>11</th>\n",
       "      <td>0.035859</td>\n",
       "      <td>1</td>\n",
       "      <td>compañera</td>\n",
       "      <td>0.0</td>\n",
       "      <td>0.035859</td>\n",
       "      <td>0.0</td>\n",
       "    </tr>\n",
       "    <tr>\n",
       "      <th>12</th>\n",
       "      <td>0.035859</td>\n",
       "      <td>1</td>\n",
       "      <td>personas</td>\n",
       "      <td>0.0</td>\n",
       "      <td>0.035859</td>\n",
       "      <td>0.0</td>\n",
       "    </tr>\n",
       "    <tr>\n",
       "      <th>13</th>\n",
       "      <td>0.035781</td>\n",
       "      <td>7</td>\n",
       "      <td>deportes</td>\n",
       "      <td>0.0</td>\n",
       "      <td>0.035781</td>\n",
       "      <td>0.0</td>\n",
       "    </tr>\n",
       "    <tr>\n",
       "      <th>14</th>\n",
       "      <td>0.033429</td>\n",
       "      <td>7</td>\n",
       "      <td>gracias</td>\n",
       "      <td>0.1</td>\n",
       "      <td>0.033429</td>\n",
       "      <td>0.1</td>\n",
       "    </tr>\n",
       "    <tr>\n",
       "      <th>15</th>\n",
       "      <td>0.029730</td>\n",
       "      <td>7</td>\n",
       "      <td>rendimiento</td>\n",
       "      <td>0.0</td>\n",
       "      <td>0.029730</td>\n",
       "      <td>0.0</td>\n",
       "    </tr>\n",
       "    <tr>\n",
       "      <th>16</th>\n",
       "      <td>0.028942</td>\n",
       "      <td>3</td>\n",
       "      <td>comité olímpico internacional</td>\n",
       "      <td>0.0</td>\n",
       "      <td>0.028942</td>\n",
       "      <td>0.0</td>\n",
       "    </tr>\n",
       "    <tr>\n",
       "      <th>17</th>\n",
       "      <td>0.023741</td>\n",
       "      <td>1</td>\n",
       "      <td>Camila zuluaga</td>\n",
       "      <td>0.0</td>\n",
       "      <td>0.023741</td>\n",
       "      <td>0.0</td>\n",
       "    </tr>\n",
       "  </tbody>\n",
       "</table>\n",
       "</div>"
      ],
      "text/plain": [
       "    Salienceg  types                          namei  Magnitude  Saliencei  \\\n",
       "0    0.116637      1                       coautora        0.1   0.116637   \n",
       "1    0.084725      7                         ámbito        0.1   0.084725   \n",
       "2    0.079941      7                    directrices        0.0   0.079941   \n",
       "3    0.079941      1                    deportistas        0.0   0.079941   \n",
       "4    0.079941      3                         comité        0.0   0.079941   \n",
       "5    0.074039      7                          radio        0.1   0.074039   \n",
       "6    0.074039      7                   conversación        0.0   0.074039   \n",
       "7    0.066863      7                    reglamentos        0.0   0.066863   \n",
       "8    0.043613      1                      directriz        0.0   0.043613   \n",
       "9    0.038460      7                      expecting        0.0   0.038460   \n",
       "10   0.038460      7                       esfinges        0.0   0.038460   \n",
       "11   0.035859      1                      compañera        0.0   0.035859   \n",
       "12   0.035859      1                       personas        0.0   0.035859   \n",
       "13   0.035781      7                       deportes        0.0   0.035781   \n",
       "14   0.033429      7                        gracias        0.1   0.033429   \n",
       "15   0.029730      7                    rendimiento        0.0   0.029730   \n",
       "16   0.028942      3  comité olímpico internacional        0.0   0.028942   \n",
       "17   0.023741      1                 Camila zuluaga        0.0   0.023741   \n",
       "\n",
       "    Sentiment  \n",
       "0        -0.1  \n",
       "1        -0.1  \n",
       "2         0.0  \n",
       "3         0.0  \n",
       "4         0.0  \n",
       "5         0.1  \n",
       "6         0.0  \n",
       "7         0.0  \n",
       "8         0.0  \n",
       "9         0.0  \n",
       "10        0.0  \n",
       "11        0.0  \n",
       "12        0.0  \n",
       "13        0.0  \n",
       "14        0.1  \n",
       "15        0.0  \n",
       "16        0.0  \n",
       "17        0.0  "
      ]
     },
     "execution_count": 62,
     "metadata": {},
     "output_type": "execute_result"
    }
   ],
   "source": [
    "dfObj"
   ]
  },
  {
   "cell_type": "markdown",
   "metadata": {},
   "source": [
    "### Send that thing to big query"
   ]
  },
  {
   "cell_type": "code",
   "execution_count": 65,
   "metadata": {},
   "outputs": [
    {
     "name": "stderr",
     "output_type": "stream",
     "text": [
      "1it [00:02,  2.78s/it]\n"
     ]
    }
   ],
   "source": [
    "full_table_id = 'R_NER.Radio_tests'\n",
    "project_id = 'proyecto-emiliano-isaza'\n",
    "dfObj.to_gbq(full_table_id, project_id=project_id)"
   ]
  },
  {
   "cell_type": "code",
   "execution_count": null,
   "metadata": {},
   "outputs": [],
   "source": [
    "from datetime import datetime\n",
    "from google.cloud import bigquery\n",
    "from pydub import AudioSegment\n",
    "from io import BytesIO\n",
    "from google.cloud import storage\n",
    "import os\n",
    "from google.cloud import speech\n",
    "from google.cloud.speech import enums\n",
    "from google.cloud.speech import types"
   ]
  }
 ],
 "metadata": {
  "kernelspec": {
   "display_name": "Python 3",
   "language": "python",
   "name": "python3"
  },
  "language_info": {
   "codemirror_mode": {
    "name": "ipython",
    "version": 3
   },
   "file_extension": ".py",
   "mimetype": "text/x-python",
   "name": "python",
   "nbconvert_exporter": "python",
   "pygments_lexer": "ipython3",
   "version": "3.5.3"
  }
 },
 "nbformat": 4,
 "nbformat_minor": 2
}
