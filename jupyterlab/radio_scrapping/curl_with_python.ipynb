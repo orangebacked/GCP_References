{
 "cells": [
  {
   "cell_type": "code",
   "execution_count": 22,
   "metadata": {},
   "outputs": [],
   "source": [
    "import signal\n",
    "from contextlib import contextmanager\n",
    "\n",
    "\n",
    "@contextmanager\n",
    "def timeout(time):\n",
    "    # Register a function to raise a TimeoutError on the signal.\n",
    "    signal.signal(signal.SIGALRM, raise_timeout)\n",
    "    # Schedule the signal to be sent after ``time``.\n",
    "    signal.alarm(time)\n",
    "\n",
    "    try:\n",
    "        yield\n",
    "    except TimeoutError:\n",
    "        pass\n",
    "    finally:\n",
    "        # Unregister the signal so it won't be triggered\n",
    "        # if the timeout is not reached.\n",
    "        signal.signal(signal.SIGALRM, signal.SIG_IGN)\n",
    "\n",
    "\n",
    "def raise_timeout(signum, frame):\n",
    "    raise TimeoutError\n",
    "\n",
    "\n",
    "def my_func():\n",
    "    # Add a timeout block.\n",
    "    with timeout(1):\n",
    "        print('entering block')\n",
    "        import time\n",
    "        time.sleep(10)\n",
    "        print('This should never get printed because the line before timed out')"
   ]
  },
  {
   "cell_type": "code",
   "execution_count": 31,
   "metadata": {},
   "outputs": [],
   "source": [
    "import requests\n",
    "from datetime import datetime\n",
    "import google.cloud.storage as storage\n",
    "import io\n",
    "from pydub import AudioSegment\n",
    "\n",
    "#r = requests.get(\"https://18853.live.streamtheworld.com/BLURADIO_SC\", streaming=True)\n",
    "\n",
    "\n",
    "def download_file(url):\n",
    "    local_filename = url.split('/')[-1]\n",
    "    # NOTE the stream=True parameter below\n",
    "    with requests.get(url, stream=True) as r:\n",
    "        r.raise_for_status()\n",
    "        for chunk in r.iter_content(chunk_size=219200): \n",
    "            if chunk: # filter out keep-alive new chunks\n",
    "                c = io.BytesIO(chunk)\n",
    "                dateTimeObj = datetime.now()\n",
    "                timestampStr = dateTimeObj.strftime(\"Blue_%d-%b-%Y %H:%M:%S.%f\")\n",
    "                dateStr = dateTimeObj.strftime(\"%d-%b-%Y\")\n",
    "                name = \"dateStr/\" + \"{}.flac\".format(timestampStr)\n",
    "                song = AudioSegment.from_mp3(c)\n",
    "                ss = song.export(format=\"flac\", parameters=[\"-ac\", \"1\"])\n",
    "                upload_blob(\"radioscrapping\", ss, name)\n",
    "                    # f.flush()\n",
    "    return local_filename\n",
    "\n",
    "def upload_blob(bucket_name, my_file, destination_blob_name):\n",
    "    \"\"\"Uploads a file to the bucket.\"\"\"\n",
    "    storage_client = storage.Client()\n",
    "    bucket = storage_client.get_bucket(bucket_name)\n",
    "    blob = bucket.blob(destination_blob_name)\n",
    "    blob.upload_from_file(my_file)\n",
    "    "
   ]
  },
  {
   "cell_type": "code",
   "execution_count": 34,
   "metadata": {},
   "outputs": [
    {
     "name": "stdout",
     "output_type": "stream",
     "text": [
      "Success\n"
     ]
    }
   ],
   "source": [
    "try:\n",
    "    with timeout(30):\n",
    "        download_file(\"https://18853.live.streamtheworld.com/BLURADIO_SC\")\n",
    "except:\n",
    "    print(\"Success\")"
   ]
  },
  {
   "cell_type": "code",
   "execution_count": null,
   "metadata": {},
   "outputs": [],
   "source": [
    "{ \n",
    "  \"url\": \"https://18853.live.streamtheworld.com/BLURADIO_SC\",\n",
    "  \"c_size\" : 219200,\n",
    "  \"timeo\":90,\n",
    "  \"name_folder\" : \"blue\"\n",
    "}\n"
   ]
  },
  {
   "cell_type": "code",
   "execution_count": null,
   "metadata": {},
   "outputs": [],
   "source": [
    "import requests\n",
    "from datetime import datetime\n",
    "import google.cloud.storage as storage\n",
    "import io\n",
    "from pydub import AudioSegment\n",
    "\n",
    "#r = requests.get(\"https://18853.live.streamtheworld.com/BLURADIO_SC\", streaming=True)\n",
    "\n",
    "\n",
    "def download_file(url):\n",
    "    local_filename = url.split('/')[-1]\n",
    "    # NOTE the stream=True parameter below\n",
    "    with requests.get(url, stream=True) as r:\n",
    "        r.raise_for_status()\n",
    "        for chunk in r.iter_content(chunk_size=219200): \n",
    "            if chunk: # filter out keep-alive new chunks\n",
    "                c = io.BytesIO(chunk)\n",
    "                dateTimeObj = datetime.now()\n",
    "                timestampStr = dateTimeObj.strftime(\"Blue_%d-%b-%Y %H:%M:%S.%f\")\n",
    "                dateStr = dateTimeObj.strftime(\"%d-%b-%Y\")\n",
    "                name = \"dateStr/\" + \"{}.flac\".format(timestampStr)\n",
    "                song = AudioSegment.from_mp3(c)\n",
    "                ss = song.export(format=\"flac\", parameters=[\"-ac\", \"1\"])\n",
    "                upload_blob(\"radioscrapping\", ss, name)\n",
    "                    # f.flush()\n",
    "    return local_filename"
   ]
  }
 ],
 "metadata": {
  "kernelspec": {
   "display_name": "Python 3",
   "language": "python",
   "name": "python3"
  },
  "language_info": {
   "codemirror_mode": {
    "name": "ipython",
    "version": 3
   },
   "file_extension": ".py",
   "mimetype": "text/x-python",
   "name": "python",
   "nbconvert_exporter": "python",
   "pygments_lexer": "ipython3",
   "version": "3.5.3"
  }
 },
 "nbformat": 4,
 "nbformat_minor": 2
}
