{
 "cells": [
  {
   "cell_type": "markdown",
   "metadata": {},
   "source": [
    "# Short audio file"
   ]
  },
  {
   "cell_type": "code",
   "execution_count": 5,
   "metadata": {},
   "outputs": [],
   "source": [
    "def transcribe_gcs(gcs_uri):\n",
    "    \"\"\"Transcribes the audio file specified by the gcs_uri.\"\"\"\n",
    "    client = speech.SpeechClient()\n",
    "    audio = types.RecognitionAudio(uri=gcs_uri)\n",
    "    config = types.RecognitionConfig(\n",
    "        encoding=enums.RecognitionConfig.AudioEncoding.FLAC,\n",
    "        language_code='es-CO')\n",
    "\n",
    "    response = client.recognize(config, audio)\n",
    "    # Each result is for a consecutive portion of the audio. Iterate through\n",
    "    # them to get the transcripts for the entire audio file.\n",
    "    return response "
   ]
  },
  {
   "cell_type": "markdown",
   "metadata": {},
   "source": [
    "#### First I had to convert the audio to Flac using : ffmpeg -i file-2.mp3 -c:v libx264 short_fla.flac\n",
    "#### Then I changed the channel to ffmpeg -i short_fla.flac -ac 1 mono_short.flac"
   ]
  },
  {
   "cell_type": "code",
   "execution_count": 7,
   "metadata": {},
   "outputs": [],
   "source": [
    "s = transcribe_gcs(\"gs://radioscrapping/Radio/mono_short.flac\")"
   ]
  },
  {
   "cell_type": "code",
   "execution_count": 24,
   "metadata": {},
   "outputs": [
    {
     "data": {
      "text/plain": [
       "'Gabriel Jesús y ya se tomó la titularidad del partido con Venezuela Cuando entró perdió la titular el jugador del Ajax richarlyson tiene paperas y everton es un extremo izquierdo que ese derecho de mucha habilidad grandes diagonales jugador muy desequilibrante'"
      ]
     },
     "execution_count": 24,
     "metadata": {},
     "output_type": "execute_result"
    }
   ],
   "source": [
    "s.results[0].alternatives[0].transcript"
   ]
  },
  {
   "cell_type": "markdown",
   "metadata": {},
   "source": [
    "# Long audio file"
   ]
  },
  {
   "cell_type": "code",
   "execution_count": 39,
   "metadata": {},
   "outputs": [],
   "source": [
    "def transcribe_gcs(gcs_uri):\n",
    "    \"\"\"Asynchronously transcribes the audio file specified by the gcs_uri.\"\"\"\n",
    "    client = speech.SpeechClient()\n",
    "\n",
    "    audio = types.RecognitionAudio(uri=gcs_uri)\n",
    "    config = types.RecognitionConfig(\n",
    "        encoding=enums.RecognitionConfig.AudioEncoding.FLAC,\n",
    "        language_code='es-CO')\n",
    "\n",
    "    operation = client.long_running_recognize(config, audio)\n",
    "\n",
    "    print('Waiting for operation to complete...')\n",
    "    response = operation.result(timeout=90)\n",
    "\n",
    "    # Each result is for a consecutive portion of the audio. Iterate through\n",
    "    # them to get the transcripts for the entire audio file.\n",
    "    return response"
   ]
  },
  {
   "cell_type": "code",
   "execution_count": 40,
   "metadata": {},
   "outputs": [
    {
     "name": "stdout",
     "output_type": "stream",
     "text": [
      "Waiting for operation to complete...\n"
     ]
    }
   ],
   "source": [
    "ss = transcribe_gcs(\"gs://radioscrapping/Radio/mono_long.flac\")"
   ]
  },
  {
   "cell_type": "code",
   "execution_count": null,
   "metadata": {},
   "outputs": [],
   "source": []
  },
  {
   "cell_type": "code",
   "execution_count": 41,
   "metadata": {},
   "outputs": [
    {
     "data": {
      "text/plain": [
       "'acumulación de tarjetas amarillas va a estar Alan y también confirma que va a estar Arturo el que si perdió la titularidad definitivamente arrancó siendo titular fue richarlison porque la gran figura del equipo brasileño el que ha hecho olvidar a Neymar por momentos es everton y el otro que arrancó siendo suplente es Gabriel Jesús y ya se tomó las titularidades del partido con Venezuela Cuando entró no eres perdió la titular el jugador del Ajax richarlyson tiene paperas y everton es un extremo izquierdo que es el derecho de mucha habilidad grandes diagonales jugador muy desequilibrante firmino jugando como como 9 y pues ahorita estaremos hablando de lo que es Paraguay ha planteado para hoy un equipo muy rocoso lleno de gente en la mitad de atrás vamos a ver si al fin sale con 5 defensas parece que si sale con cinco Defensores es para contener las hordas Alba'"
      ]
     },
     "execution_count": 41,
     "metadata": {},
     "output_type": "execute_result"
    }
   ],
   "source": [
    "ss.results[0].alternatives[0].transcript"
   ]
  },
  {
   "cell_type": "code",
   "execution_count": 42,
   "metadata": {},
   "outputs": [
    {
     "data": {
      "text/plain": [
       "'los jugadores brasileños que apreciamos que eso es inminente porque van a salir a atacar con todo claro el partido perfecto para Paraguay es el partido que le hizo venezuela-brasil eso que Brasil no supo descifrar que intentó algunas variantes pero ni siquiera logró sacar figura al Arquero faríñez por eso hoy el equipo paraguayo a plantear claramente 5 hombres atrás y muy cerquita 4 volantes dejando almirón en punta a ver qué puedo hacer de Luis González le puede sacar la pelota pero laterales tanto piercings como arzamendia pues hombre no es que sean de Gran proyección Así que la impronta paraguaya será hoy defenderse y yo y arzamendia por lo menos lo vimos muy seguro ante Colombia no cometió varios errores fue amonestado Yo creo que un jugador como Gabriel Jesús no lo voy a perdonar Gabriel Jesús que pues no han podido encontrar algo no imposible anular una jugada de gol por parte del var en el partido ante Perú y después falló una pena máxima que atajó muy bien'"
      ]
     },
     "execution_count": 42,
     "metadata": {},
     "output_type": "execute_result"
    }
   ],
   "source": [
    "ss.results[1].alternatives[0].transcript"
   ]
  },
  {
   "cell_type": "code",
   "execution_count": 43,
   "metadata": {},
   "outputs": [
    {
     "data": {
      "text/plain": [
       "'Lo cierto es que Paraguay apuesta al contraataque los colegas paraguayos nos indican que es un equipo que al carecer de juego donde el único jugador talentoso es almirón el equipo tiene que apostar al contraataque Así que este partido es ideal para las pretensiones de ellos En cuanto a la velocidad del tipo como derlis González y hoy apuestan a Óscar Romero Qué es mucho más rápido mucho más joven que Santander y que tacuara Cardozo sin embargo pues hacer un partido ideal se le noto bastante incómodo cuando tuvo que proponer en el Duelo ante Colombia también es cierto Martín que el equipo brasileño hombre que son momentos de los partidos Paraguay tendrás que estar muy concentrado Y hacer que pasen los minutos con el cero por qué Venezuela A eso le apostó y lo logró pero Durante los primeros ocho minutos antes del primer gol que fue un error canal a clarísimo de la defensa peruana en un'"
      ]
     },
     "execution_count": 43,
     "metadata": {},
     "output_type": "execute_result"
    }
   ],
   "source": [
    "ss.results[2].alternatives[0].transcript\n"
   ]
  },
  {
   "cell_type": "code",
   "execution_count": 44,
   "metadata": {},
   "outputs": [
    {
     "data": {
      "text/plain": [
       "'balones de costado de gol de casemiro doble cabeza son las 5 con 50 la saga peruana y la verdad es que hasta ese momento Brasil no encontraba por donde la pelota la peruana Perú le apostó a un partido no tan defensivo sino a tener la pelota en la mitad es otra manera de defenderse uno se puede defender de manera agresiva ya sólo estaba apostando Perú pero hasta el momento de la complicidad de la saga peruana Martín o es el partido era muy parecido al de Venezuela entonces Paraguay le quiere apostar a la máxima concentración a la disminución del margen de error en materia defensiva para tener posibilidades equipo brasilero Pues digamos que hay momentos donde tiene demasiada Paz'"
      ]
     },
     "execution_count": 44,
     "metadata": {},
     "output_type": "execute_result"
    }
   ],
   "source": [
    "ss.results[3].alternatives[0].transcript\n"
   ]
  },
  {
   "cell_type": "code",
   "execution_count": null,
   "metadata": {},
   "outputs": [],
   "source": []
  },
  {
   "cell_type": "code",
   "execution_count": null,
   "metadata": {},
   "outputs": [],
   "source": [
    "def upload_to_bq(row):\n",
    "    bigquery_client = bigquery.Client()\n",
    "    dataset_ref = bigquery_client.dataset('news_scrapping')\n",
    "    table_ref = dataset_ref.table('caracol')\n",
    "    table = bigquery_client.get_table(table_ref)\n",
    "    rows_to_insert = [\n",
    "            row\n",
    "    ]\n",
    "    errors = bigquery_client.insert_rows(table, rows_to_insert)\n",
    "    print(errors)\n",
    "    assert errors == []"
   ]
  }
 ],
 "metadata": {
  "kernelspec": {
   "display_name": "Python 3",
   "language": "python",
   "name": "python3"
  },
  "language_info": {
   "codemirror_mode": {
    "name": "ipython",
    "version": 3
   },
   "file_extension": ".py",
   "mimetype": "text/x-python",
   "name": "python",
   "nbconvert_exporter": "python",
   "pygments_lexer": "ipython3",
   "version": "3.5.3"
  }
 },
 "nbformat": 4,
 "nbformat_minor": 2
}
